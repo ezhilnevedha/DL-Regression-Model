{
  "cells": [
    {
      "cell_type": "code",
      "source": [
        "import torch\n",
        "import torch.nn as nn  # Neural network module\n",
        "import matplotlib.pyplot as plt  # For plotting",
        " %matplotlib inline"
      ],
      "metadata": {
        "id": "JOaCJkogcawG"
      },
      "execution_count": null,
      "outputs": []
    },
    {
      "cell_type": "code",
      "source": [
        "#  Generate Input Data (X) and Output Data (y)\n",
        "X = torch.linspace(1,70,70).reshape(-1,1)\n",
        "torch.manual_seed(71)\n",
        "e = torch.randint(-8,9,(70,1),dtype=torch.float)\n",
        "e\n"
        "\n",
        "\n"
      ],
      "metadata": {
        "id": "gSXLmYXOccJN"
      },
      "execution_count": null,
      "outputs": []
    },
    {
      "cell_type": "code",
      "source": [
        "# Plot the original data\n",
        "plt.scatter(X.numpy(), y.numpy(), color='red')\n",
        "plt.xlabel('x')\n",
        "plt.ylabel('y')\n",
        "plt.title('Generated Data for Linear Regression')\n",
        "plt.show()"
      ],
      "metadata": {
        "id": "n7aNBFVGcf9e"
      },
      "execution_count": null,
      "outputs": []
    },
    {
      "cell_type": "code",
      "source": [
        "# Define the Linear Model Class\n",
        "torch.manual_seed(59)\n",
        "class Model(nn.Module):\n",
        "    def __init__(self, in_features, out_features):\n",
        "        super().__init__()\n",
        "        self.linear=nn.Linear(in_features,out_features)\n",
        "\n",
        "    def forward(self, x):\n",
        "         return self.linear(x)"
      ],
      "metadata": {
        "id": "ICCFjZWlchYe"
      },
      "execution_count": null,
      "outputs": []
    },
    {
      "cell_type": "code",
      "source": [
        "# Initialize the Model\n",
        "torch.manual_seed(59)  # Ensure same initial weights\n",
        "model = Model(1, 1)"
      ],
      "metadata": {
        "id": "eU-vA-A3cjad"
      },
      "execution_count": null,
      "outputs": []
    },
    {
      "cell_type": "code",
      "source": [
        "# Print Initial Weights and Bias\n",
        "initial_weight = model.linear.weight.item()\n",
        "initial_bias = model.linear.bias.item()\n",
        "print(\"\\nName: EZHIL NEVEDHA K\")\n",
        "print(\"Register No: 212223230055\")\n",
        "print(f'Initial Weight: {initial_weight:.8f}, Initial Bias: {initial_bias:.8f}\\n')"
      ],
      "metadata": {
        "id": "ltfNcS_7cmA9"
      },
      "execution_count": null,
      "outputs": []
    },
    {
      "cell_type": "code",
      "source": [
        "# Define Loss Function & Optimizer\n",
        "loss_function =NN.MSELoss()\n",
        "optimizer =torch.optim.SGD(model.parameters(),lr=0.001"
      ],
      "metadata": {
        "id": "-CJM6T6Hcn8O"
      },
      "execution_count": null,
      "outputs": []
    },
    {
      "cell_type": "code",
      "source": [
        "# Train the Model\n",
        "epochs = 100\n",
        "losses = []\n",
        "\n",
        "for epoch in range(1, epochs + 1):  # Loop over epochs\n",
        "    optimizer.zero_grad()\n",
        "    y_pred=model(X)\n",
        "    loss=loss_function(y_pred,y)\n",
        "    losses.append(loss.item())\n",
        "    loss.backward()\n",
 optimizer.step()",
        "\n",
        "\n",
        "\n",
        "\n",
        "\n",
        "    # Print loss, weight, and bias for EVERY epoch\n",
        "    print(f'epoch: {epoch:2}  loss: {loss.item():10.8f}  '\n",
        "          f'weight: {model.linear.weight.item():10.8f}  '\n",
        "          f'bias: {model.linear.bias.item():10.8f}')"
      ],
      "metadata": {
        "id": "_Rprc91Ucp5t"
      },
      "execution_count": null,
      "outputs": []
    },
    {
      "cell_type": "code",
      "source": [
        "# Plot Loss Curve\n",
        "plt.plot(range(epochs), losses, color='blue')\n",
        "plt.ylabel('Loss')\n",
        "plt.xlabel('Epoch')\n",
        "plt.title('Loss Curve')\n",
        "plt.show()"
      ],
      "metadata": {
        "id": "93UzUapMcty1"
      },
      "execution_count": null,
      "outputs": []
    },
    {
      "cell_type": "code",
      "source": [
        "# Final Weights & Bias\n",
        "final_weight = model.linear.weight.item()\n",
        "final_bias = model.linear.bias.item()\n",
        "print(\"\\nName:EZHIL NEVEDHA K \")\n",
        "print(\"Register No: 212223230055\")\n",
        "print(f'\\nFinal Weight: {final_weight:.8f}, Final Bias: {final_bias:.8f}')"
      ],
      "metadata": {
        "id": "iB9de1FLcvG2"
      },
      "execution_count": null,
      "outputs": []
    },
    {
      "cell_type": "code",
      "source": [
        "#  Best-Fit Line Calculation\n",
        "x1 = torch.tensor([X.min().item(), X.max().item()]) # Find min and max values of X\n",
        "y1 = x1 * final_weight + final_bias # Compute corresponding y-values using trained model"
      ],
      "metadata": {
        "id": "xnBrogxvcwrt"
      },
      "execution_count": null,
      "outputs": []
    },
    {
      "cell_type": "code",
      "source": [
        "# Plot Original Data & Best-Fit Line\n",
        "plt.scatter(X.numpy(), y.numpy(),color='red', label=\"Original Data\")\n",
        "plt.plot(x1.numpy(), y1.numpy(), color='cyan', label=\"Best-Fit Line\")\n",
        "plt.xlabel('X')\n",
        "plt.ylabel('y')\n",
        "plt.title('Trained Model: Best-Fit Line')\n",
        "plt.legend()\n",
        "plt.show()"
      ],
      "metadata": {
        "id": "q11yCmifcyWk"
      },
      "execution_count": null,
      "outputs": []
    },
    {
      "cell_type": "code",
      "source": [
        "# Prediction for x = 120\n",
        "x_new = torch.tensor([[120.0]])  # New input as a tensor\n",
        "y_new_pred = model(x_new).item()  # Predict using trained model\n",
        "print(\"\\nName:EZHIL NEVEDHA K \")\n",
        "print(\"Register No:212223230055 \")\n",
        "print(f\"\\nPrediction for x = 120: {y_new_pred:.8f}\")"
      ],
      "metadata": {
        "id": "PLILna_ucz91"
      },
      "execution_count": null,
      "outputs": []
    }
  ],
  "metadata": {
    "colab": {
      "provenance": []
    },
    "kernelspec": {
      "display_name": "Python 3",
      "name": "python3"
    },
    "language_info": {
      "name": "python"
    }
  },
  "nbformat": 4,
  "nbformat_minor": 0
}
