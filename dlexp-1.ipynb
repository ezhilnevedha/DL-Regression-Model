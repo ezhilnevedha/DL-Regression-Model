{
 "cells": [
  {
   "cell_type": "markdown",
   "id": "25471a56",
   "metadata": {},
   "source": [
    "# EX.NO.01\n",
    "## ANN based Class Classification using Tabular Dataset\n",
    "**Reg.No** 212223230055 **Name:** Ezhil Nevedha K **Slot:** 4O5-1"
   ]
  },
  {
   "cell_type": "code",
   "execution_count": 1,
   "id": "35e403c7",
   "metadata": {},
   "outputs": [],
   "source": [
    "import torch"
   ]
  },
  {
   "cell_type": "code",
   "execution_count": 2,
   "id": "d1811a6a",
   "metadata": {},
   "outputs": [],
   "source": [
    "import torch.nn as nn"
   ]
  },
  {
   "cell_type": "code",
   "execution_count": 11,
   "id": "7aedd31e-3398-4942-b6e6-03cc8ddc060b",
   "metadata": {},
   "outputs": [
    {
     "name": "stdout",
     "output_type": "stream",
     "text": [
      "Collecting matplotlib\n",
      "  Downloading matplotlib-3.10.6-cp311-cp311-win_amd64.whl.metadata (11 kB)\n",
      "Collecting contourpy>=1.0.1 (from matplotlib)\n",
      "  Downloading contourpy-1.3.3-cp311-cp311-win_amd64.whl.metadata (5.5 kB)\n",
      "Collecting cycler>=0.10 (from matplotlib)\n",
      "  Downloading cycler-0.12.1-py3-none-any.whl.metadata (3.8 kB)\n",
      "Collecting fonttools>=4.22.0 (from matplotlib)\n",
      "  Downloading fonttools-4.59.2-cp311-cp311-win_amd64.whl.metadata (111 kB)\n",
      "Collecting kiwisolver>=1.3.1 (from matplotlib)\n",
      "  Downloading kiwisolver-1.4.9-cp311-cp311-win_amd64.whl.metadata (6.4 kB)\n",
      "Requirement already satisfied: numpy>=1.23 in c:\\users\\admin\\appdata\\roaming\\python\\python311\\site-packages (from matplotlib) (1.26.4)\n",
      "Requirement already satisfied: packaging>=20.0 in c:\\users\\admin\\.conda\\envs\\pytorch\\lib\\site-packages (from matplotlib) (25.0)\n",
      "Collecting pillow>=8 (from matplotlib)\n",
      "  Downloading pillow-11.3.0-cp311-cp311-win_amd64.whl.metadata (9.2 kB)\n",
      "Collecting pyparsing>=2.3.1 (from matplotlib)\n",
      "  Downloading pyparsing-3.2.3-py3-none-any.whl.metadata (5.0 kB)\n",
      "Requirement already satisfied: python-dateutil>=2.7 in c:\\users\\admin\\.conda\\envs\\pytorch\\lib\\site-packages (from matplotlib) (2.9.0.post0)\n",
      "Requirement already satisfied: six>=1.5 in c:\\users\\admin\\.conda\\envs\\pytorch\\lib\\site-packages (from python-dateutil>=2.7->matplotlib) (1.17.0)\n",
      "Downloading matplotlib-3.10.6-cp311-cp311-win_amd64.whl (8.1 MB)\n",
      "   ---------------------------------------- 0.0/8.1 MB ? eta -:--:--\n",
      "   -- ------------------------------------- 0.5/8.1 MB 3.4 MB/s eta 0:00:03\n",
      "   ----- ---------------------------------- 1.0/8.1 MB 7.1 MB/s eta 0:00:01\n",
      "   ------ --------------------------------- 1.3/8.1 MB 2.2 MB/s eta 0:00:04\n",
      "   ------- -------------------------------- 1.6/8.1 MB 1.9 MB/s eta 0:00:04\n",
      "   ---------- ----------------------------- 2.1/8.1 MB 1.8 MB/s eta 0:00:04\n",
      "   ----------- ---------------------------- 2.4/8.1 MB 1.7 MB/s eta 0:00:04\n",
      "   ------------ --------------------------- 2.6/8.1 MB 1.7 MB/s eta 0:00:04\n",
      "   ------------ --------------------------- 2.6/8.1 MB 1.7 MB/s eta 0:00:04\n",
      "   ------------ --------------------------- 2.6/8.1 MB 1.7 MB/s eta 0:00:04\n",
      "   --------------- ------------------------ 3.1/8.1 MB 1.4 MB/s eta 0:00:04\n",
      "   ------------------ --------------------- 3.7/8.1 MB 1.5 MB/s eta 0:00:03\n",
      "   -------------------- ------------------- 4.2/8.1 MB 1.6 MB/s eta 0:00:03\n",
      "   --------------------- ------------------ 4.5/8.1 MB 1.6 MB/s eta 0:00:03\n",
      "   ------------------------ --------------- 5.0/8.1 MB 1.6 MB/s eta 0:00:02\n",
      "   ------------------------ --------------- 5.0/8.1 MB 1.6 MB/s eta 0:00:02\n",
      "   ---------------------------- ----------- 5.8/8.1 MB 1.6 MB/s eta 0:00:02\n",
      "   ---------------------------- ----------- 5.8/8.1 MB 1.6 MB/s eta 0:00:02\n",
      "   ----------------------------- ---------- 6.0/8.1 MB 1.6 MB/s eta 0:00:02\n",
      "   --------------------------------- ------ 6.8/8.1 MB 1.7 MB/s eta 0:00:01\n",
      "   ---------------------------------- ----- 7.1/8.1 MB 1.6 MB/s eta 0:00:01\n",
      "   ------------------------------------- -- 7.6/8.1 MB 1.7 MB/s eta 0:00:01\n",
      "   ---------------------------------------- 8.1/8.1 MB 1.7 MB/s eta 0:00:00\n",
      "Downloading contourpy-1.3.3-cp311-cp311-win_amd64.whl (225 kB)\n",
      "Downloading cycler-0.12.1-py3-none-any.whl (8.3 kB)\n",
      "Downloading fonttools-4.59.2-cp311-cp311-win_amd64.whl (2.3 MB)\n",
      "   ---------------------------------------- 0.0/2.3 MB ? eta -:--:--\n",
      "   ---------------------------------------- 0.0/2.3 MB ? eta -:--:--\n",
      "   ---- ----------------------------------- 0.3/2.3 MB ? eta -:--:--\n",
      "   ---- ----------------------------------- 0.3/2.3 MB ? eta -:--:--\n",
      "   ---- ----------------------------------- 0.3/2.3 MB ? eta -:--:--\n",
      "   ---- ----------------------------------- 0.3/2.3 MB ? eta -:--:--\n",
      "   ---- ----------------------------------- 0.3/2.3 MB ? eta -:--:--\n",
      "   ----------------------- ---------------- 1.3/2.3 MB 986.4 kB/s eta 0:00:01\n",
      "   ----------------------- ---------------- 1.3/2.3 MB 986.4 kB/s eta 0:00:01\n",
      "   ----------------------- ---------------- 1.3/2.3 MB 986.4 kB/s eta 0:00:01\n",
      "   ------------------------------------- -- 2.1/2.3 MB 1.0 MB/s eta 0:00:01\n",
      "   ---------------------------------------- 2.3/2.3 MB 1.1 MB/s eta 0:00:00\n",
      "Downloading kiwisolver-1.4.9-cp311-cp311-win_amd64.whl (73 kB)\n",
      "Downloading pillow-11.3.0-cp311-cp311-win_amd64.whl (7.0 MB)\n",
      "   ---------------------------------------- 0.0/7.0 MB ? eta -:--:--\n",
      "   ---- ----------------------------------- 0.8/7.0 MB 16.4 MB/s eta 0:00:01\n",
      "   ---- ----------------------------------- 0.8/7.0 MB 16.4 MB/s eta 0:00:01\n",
      "   ------- -------------------------------- 1.3/7.0 MB 2.5 MB/s eta 0:00:03\n",
      "   ------- -------------------------------- 1.3/7.0 MB 2.5 MB/s eta 0:00:03\n",
      "   ------------ --------------------------- 2.1/7.0 MB 2.2 MB/s eta 0:00:03\n",
      "   ------------- -------------------------- 2.4/7.0 MB 2.2 MB/s eta 0:00:03\n",
      "   ------------- -------------------------- 2.4/7.0 MB 2.2 MB/s eta 0:00:03\n",
      "   ------------------ --------------------- 3.1/7.0 MB 2.1 MB/s eta 0:00:02\n",
      "   --------------------- ------------------ 3.7/7.0 MB 2.2 MB/s eta 0:00:02\n",
      "   ---------------------- ----------------- 3.9/7.0 MB 1.9 MB/s eta 0:00:02\n",
      "   ------------------------ --------------- 4.2/7.0 MB 1.8 MB/s eta 0:00:02\n",
      "   ------------------------ --------------- 4.2/7.0 MB 1.8 MB/s eta 0:00:02\n",
      "   ------------------------- -------------- 4.5/7.0 MB 1.7 MB/s eta 0:00:02\n",
      "   ---------------------------- ----------- 5.0/7.0 MB 1.7 MB/s eta 0:00:02\n",
      "   ------------------------------ --------- 5.2/7.0 MB 1.7 MB/s eta 0:00:02\n",
      "   ------------------------------- -------- 5.5/7.0 MB 1.6 MB/s eta 0:00:01\n",
      "   ---------------------------------- ----- 6.0/7.0 MB 1.7 MB/s eta 0:00:01\n",
      "   ---------------------------------- ----- 6.0/7.0 MB 1.7 MB/s eta 0:00:01\n",
      "   ---------------------------------- ----- 6.0/7.0 MB 1.7 MB/s eta 0:00:01\n",
      "   ---------------------------------------  6.8/7.0 MB 1.6 MB/s eta 0:00:01\n",
      "   ---------------------------------------- 7.0/7.0 MB 1.6 MB/s eta 0:00:00\n",
      "Downloading pyparsing-3.2.3-py3-none-any.whl (111 kB)\n",
      "Installing collected packages: pyparsing, pillow, kiwisolver, fonttools, cycler, contourpy, matplotlib\n",
      "\n",
      "   ---------------------------------------- 0/7 [pyparsing]\n",
      "   ---------------------------------------- 0/7 [pyparsing]\n",
      "   ----- ---------------------------------- 1/7 [pillow]\n",
      "   ----- ---------------------------------- 1/7 [pillow]\n",
      "   ----- ---------------------------------- 1/7 [pillow]\n",
      "   ----- ---------------------------------- 1/7 [pillow]\n",
      "   ----- ---------------------------------- 1/7 [pillow]\n",
      "   ----- ---------------------------------- 1/7 [pillow]\n",
      "   ----- ---------------------------------- 1/7 [pillow]\n",
      "   ----- ---------------------------------- 1/7 [pillow]\n",
      "   ----- ---------------------------------- 1/7 [pillow]\n",
      "   ----- ---------------------------------- 1/7 [pillow]\n",
      "   ----- ---------------------------------- 1/7 [pillow]\n",
      "   ----- ---------------------------------- 1/7 [pillow]\n",
      "   ----- ---------------------------------- 1/7 [pillow]\n",
      "   ----- ---------------------------------- 1/7 [pillow]\n",
      "   ----- ---------------------------------- 1/7 [pillow]\n",
      "   ----- ---------------------------------- 1/7 [pillow]\n",
      "   ----- ---------------------------------- 1/7 [pillow]\n",
      "   ----- ---------------------------------- 1/7 [pillow]\n",
      "   ----- ---------------------------------- 1/7 [pillow]\n",
      "   ----------- ---------------------------- 2/7 [kiwisolver]\n",
      "   ----------------- ---------------------- 3/7 [fonttools]\n",
      "   ----------------- ---------------------- 3/7 [fonttools]\n",
      "   ----------------- ---------------------- 3/7 [fonttools]\n",
      "   ----------------- ---------------------- 3/7 [fonttools]\n",
      "   ----------------- ---------------------- 3/7 [fonttools]\n",
      "   ----------------- ---------------------- 3/7 [fonttools]\n",
      "   ----------------- ---------------------- 3/7 [fonttools]\n",
      "   ----------------- ---------------------- 3/7 [fonttools]\n",
      "   ----------------- ---------------------- 3/7 [fonttools]\n",
      "   ----------------- ---------------------- 3/7 [fonttools]\n",
      "   ----------------- ---------------------- 3/7 [fonttools]\n",
      "   ----------------- ---------------------- 3/7 [fonttools]\n",
      "   ----------------- ---------------------- 3/7 [fonttools]\n",
      "   ----------------- ---------------------- 3/7 [fonttools]\n",
      "   ----------------- ---------------------- 3/7 [fonttools]\n",
      "   ----------------- ---------------------- 3/7 [fonttools]\n",
      "   ----------------- ---------------------- 3/7 [fonttools]\n",
      "   ----------------- ---------------------- 3/7 [fonttools]\n",
      "   ----------------- ---------------------- 3/7 [fonttools]\n",
      "   ----------------- ---------------------- 3/7 [fonttools]\n",
      "   ----------------- ---------------------- 3/7 [fonttools]\n",
      "   ----------------- ---------------------- 3/7 [fonttools]\n",
      "   ----------------- ---------------------- 3/7 [fonttools]\n",
      "   ----------------- ---------------------- 3/7 [fonttools]\n",
      "   ----------------- ---------------------- 3/7 [fonttools]\n",
      "   ----------------- ---------------------- 3/7 [fonttools]\n",
      "   ----------------- ---------------------- 3/7 [fonttools]\n",
      "   ----------------- ---------------------- 3/7 [fonttools]\n",
      "   ----------------- ---------------------- 3/7 [fonttools]\n",
      "   ----------------- ---------------------- 3/7 [fonttools]\n",
      "   ----------------- ---------------------- 3/7 [fonttools]\n",
      "   ----------------- ---------------------- 3/7 [fonttools]\n",
      "   ----------------- ---------------------- 3/7 [fonttools]\n",
      "   ----------------- ---------------------- 3/7 [fonttools]\n",
      "   ----------------- ---------------------- 3/7 [fonttools]\n",
      "   ----------------- ---------------------- 3/7 [fonttools]\n",
      "   ----------------- ---------------------- 3/7 [fonttools]\n",
      "   ----------------- ---------------------- 3/7 [fonttools]\n",
      "   ----------------- ---------------------- 3/7 [fonttools]\n",
      "   ----------------- ---------------------- 3/7 [fonttools]\n",
      "   ----------------- ---------------------- 3/7 [fonttools]\n",
      "   ----------------- ---------------------- 3/7 [fonttools]\n",
      "   ----------------- ---------------------- 3/7 [fonttools]\n",
      "   ----------------- ---------------------- 3/7 [fonttools]\n",
      "   ----------------- ---------------------- 3/7 [fonttools]\n",
      "   ----------------- ---------------------- 3/7 [fonttools]\n",
      "   ----------------- ---------------------- 3/7 [fonttools]\n",
      "   ----------------- ---------------------- 3/7 [fonttools]\n",
      "   ----------------- ---------------------- 3/7 [fonttools]\n",
      "   ----------------- ---------------------- 3/7 [fonttools]\n",
      "   ----------------- ---------------------- 3/7 [fonttools]\n",
      "   ----------------- ---------------------- 3/7 [fonttools]\n",
      "   ----------------- ---------------------- 3/7 [fonttools]\n",
      "   ----------------- ---------------------- 3/7 [fonttools]\n",
      "   ----------------- ---------------------- 3/7 [fonttools]\n",
      "   ----------------- ---------------------- 3/7 [fonttools]\n",
      "   ----------------- ---------------------- 3/7 [fonttools]\n",
      "   ----------------- ---------------------- 3/7 [fonttools]\n",
      "   ----------------- ---------------------- 3/7 [fonttools]\n",
      "   ----------------- ---------------------- 3/7 [fonttools]\n",
      "   ---------------------------- ----------- 5/7 [contourpy]\n",
      "   ---------------------------- ----------- 5/7 [contourpy]\n",
      "   ---------------------------- ----------- 5/7 [contourpy]\n",
      "   ---------------------------------- ----- 6/7 [matplotlib]\n",
      "   ---------------------------------- ----- 6/7 [matplotlib]\n",
      "   ---------------------------------- ----- 6/7 [matplotlib]\n",
      "   ---------------------------------- ----- 6/7 [matplotlib]\n",
      "   ---------------------------------- ----- 6/7 [matplotlib]\n",
      "   ---------------------------------- ----- 6/7 [matplotlib]\n",
      "   ---------------------------------- ----- 6/7 [matplotlib]\n",
      "   ---------------------------------- ----- 6/7 [matplotlib]\n",
      "   ---------------------------------- ----- 6/7 [matplotlib]\n",
      "   ---------------------------------- ----- 6/7 [matplotlib]\n",
      "   ---------------------------------- ----- 6/7 [matplotlib]\n",
      "   ---------------------------------- ----- 6/7 [matplotlib]\n",
      "   ---------------------------------- ----- 6/7 [matplotlib]\n",
      "   ---------------------------------- ----- 6/7 [matplotlib]\n",
      "   ---------------------------------- ----- 6/7 [matplotlib]\n",
      "   ---------------------------------- ----- 6/7 [matplotlib]\n",
      "   ---------------------------------- ----- 6/7 [matplotlib]\n",
      "   ---------------------------------- ----- 6/7 [matplotlib]\n",
      "   ---------------------------------- ----- 6/7 [matplotlib]\n",
      "   ---------------------------------- ----- 6/7 [matplotlib]\n",
      "   ---------------------------------- ----- 6/7 [matplotlib]\n",
      "   ---------------------------------- ----- 6/7 [matplotlib]\n",
      "   ---------------------------------- ----- 6/7 [matplotlib]\n",
      "   ---------------------------------- ----- 6/7 [matplotlib]\n",
      "   ---------------------------------- ----- 6/7 [matplotlib]\n",
      "   ---------------------------------- ----- 6/7 [matplotlib]\n",
      "   ---------------------------------- ----- 6/7 [matplotlib]\n",
      "   ---------------------------------- ----- 6/7 [matplotlib]\n",
      "   ---------------------------------- ----- 6/7 [matplotlib]\n",
      "   ---------------------------------- ----- 6/7 [matplotlib]\n",
      "   ---------------------------------- ----- 6/7 [matplotlib]\n",
      "   ---------------------------------- ----- 6/7 [matplotlib]\n",
      "   ---------------------------------- ----- 6/7 [matplotlib]\n",
      "   ---------------------------------- ----- 6/7 [matplotlib]\n",
      "   ---------------------------------- ----- 6/7 [matplotlib]\n",
      "   ---------------------------------- ----- 6/7 [matplotlib]\n",
      "   ---------------------------------- ----- 6/7 [matplotlib]\n",
      "   ---------------------------------- ----- 6/7 [matplotlib]\n",
      "   ---------------------------------- ----- 6/7 [matplotlib]\n",
      "   ---------------------------------- ----- 6/7 [matplotlib]\n",
      "   ---------------------------------- ----- 6/7 [matplotlib]\n",
      "   ---------------------------------- ----- 6/7 [matplotlib]\n",
      "   ---------------------------------- ----- 6/7 [matplotlib]\n",
      "   ---------------------------------- ----- 6/7 [matplotlib]\n",
      "   ---------------------------------- ----- 6/7 [matplotlib]\n",
      "   ---------------------------------- ----- 6/7 [matplotlib]\n",
      "   ---------------------------------- ----- 6/7 [matplotlib]\n",
      "   ---------------------------------- ----- 6/7 [matplotlib]\n",
      "   ---------------------------------- ----- 6/7 [matplotlib]\n",
      "   ---------------------------------- ----- 6/7 [matplotlib]\n",
      "   ---------------------------------- ----- 6/7 [matplotlib]\n",
      "   ---------------------------------- ----- 6/7 [matplotlib]\n",
      "   ---------------------------------- ----- 6/7 [matplotlib]\n",
      "   ---------------------------------- ----- 6/7 [matplotlib]\n",
      "   ---------------------------------- ----- 6/7 [matplotlib]\n",
      "   ---------------------------------- ----- 6/7 [matplotlib]\n",
      "   ---------------------------------- ----- 6/7 [matplotlib]\n",
      "   ---------------------------------- ----- 6/7 [matplotlib]\n",
      "   ---------------------------------- ----- 6/7 [matplotlib]\n",
      "   ---------------------------------- ----- 6/7 [matplotlib]\n",
      "   ---------------------------------- ----- 6/7 [matplotlib]\n",
      "   ---------------------------------- ----- 6/7 [matplotlib]\n",
      "   ---------------------------------- ----- 6/7 [matplotlib]\n",
      "   ---------------------------------- ----- 6/7 [matplotlib]\n",
      "   ---------------------------------- ----- 6/7 [matplotlib]\n",
      "   ---------------------------------- ----- 6/7 [matplotlib]\n",
      "   ---------------------------------- ----- 6/7 [matplotlib]\n",
      "   ---------------------------------- ----- 6/7 [matplotlib]\n",
      "   ---------------------------------- ----- 6/7 [matplotlib]\n",
      "   ---------------------------------- ----- 6/7 [matplotlib]\n",
      "   ---------------------------------- ----- 6/7 [matplotlib]\n",
      "   ---------------------------------------- 7/7 [matplotlib]\n",
      "\n",
      "Successfully installed contourpy-1.3.3 cycler-0.12.1 fonttools-4.59.2 kiwisolver-1.4.9 matplotlib-3.10.6 pillow-11.3.0 pyparsing-3.2.3\n"
     ]
    }
   ],
   "source": [
    "!pip install matplotlib"
   ]
  },
  {
   "cell_type": "code",
   "execution_count": 3,
   "id": "ffdbddff",
   "metadata": {},
   "outputs": [],
   "source": [
    "import matplotlib.pyplot as plt\n",
    "%matplotlib inline"
   ]
  },
  {
   "cell_type": "code",
   "execution_count": 4,
   "id": "a7363013",
   "metadata": {},
   "outputs": [],
   "source": [
    "torch.manual_seed(71)\n",
    "X=torch.linspace(1,50,50).reshape(-1,1)\n",
    "e=torch.randint(-8,9,(50,1),dtype=torch.float)"
   ]
  },
  {
   "cell_type": "code",
   "execution_count": 5,
   "id": "a2edf478",
   "metadata": {},
   "outputs": [
    {
     "data": {
      "text/plain": [
       "tensor([[ 2.],\n",
       "        [ 7.],\n",
       "        [ 2.],\n",
       "        [ 6.],\n",
       "        [ 2.],\n",
       "        [-4.],\n",
       "        [ 2.],\n",
       "        [-5.],\n",
       "        [ 4.],\n",
       "        [ 1.],\n",
       "        [ 2.],\n",
       "        [ 3.],\n",
       "        [ 1.],\n",
       "        [-8.],\n",
       "        [ 5.],\n",
       "        [ 5.],\n",
       "        [-6.],\n",
       "        [ 0.],\n",
       "        [-7.],\n",
       "        [-8.],\n",
       "        [-3.],\n",
       "        [-1.],\n",
       "        [ 2.],\n",
       "        [-6.],\n",
       "        [-3.],\n",
       "        [ 3.],\n",
       "        [ 2.],\n",
       "        [ 3.],\n",
       "        [ 4.],\n",
       "        [ 5.],\n",
       "        [ 1.],\n",
       "        [ 7.],\n",
       "        [ 6.],\n",
       "        [-1.],\n",
       "        [-6.],\n",
       "        [-5.],\n",
       "        [-3.],\n",
       "        [ 7.],\n",
       "        [ 0.],\n",
       "        [ 8.],\n",
       "        [-1.],\n",
       "        [-2.],\n",
       "        [ 2.],\n",
       "        [-8.],\n",
       "        [-1.],\n",
       "        [ 6.],\n",
       "        [-8.],\n",
       "        [-3.],\n",
       "        [-7.],\n",
       "        [-2.]])"
      ]
     },
     "execution_count": 5,
     "metadata": {},
     "output_type": "execute_result"
    }
   ],
   "source": [
    "e"
   ]
  },
  {
   "cell_type": "code",
   "execution_count": 6,
   "id": "aece9d88",
   "metadata": {},
   "outputs": [],
   "source": [
    "y=2*X+1+e"
   ]
  },
  {
   "cell_type": "code",
   "execution_count": 7,
   "id": "cf327d50",
   "metadata": {},
   "outputs": [
    {
     "data": {
      "image/png": "[encoded data removed]",
      "text/plain": [
       "<Figure size 640x480 with 1 Axes>"
      ]
     },
     "metadata": {},
     "output_type": "display_data"
    }
   ],
   "source": [
    "plt.scatter(X.numpy(), y.numpy(), color='red')\n",
    "plt.xlabel('X')\n",
    "plt.ylabel('Y')\n",
    "plt.title('Generated Data for Linear Regression')\n",
    "plt.show()"
   ]
  },
  {
   "cell_type": "code",
   "execution_count": 8,
   "id": "99734837",
   "metadata": {},
   "outputs": [],
   "source": [
    "class Model(nn.Module):\n",
    "  def __init__(self, in_features, out_features):\n",
    "    super().__init__()\n",
    "    self.linear=nn.Linear(in_features, out_features)\n",
    "\n",
    "  def forward(self,x):\n",
    "      return self.linear(x)"
   ]
  },
  {
   "cell_type": "code",
   "execution_count": 9,
   "id": "ca7bdf14",
   "metadata": {},
   "outputs": [],
   "source": [
    "torch.manual_seed(59)\n",
    "model=Model(1,1)"
   ]
  },
  {
   "cell_type": "code",
   "execution_count": 10,
   "id": "a4d24ae4",
   "metadata": {},
   "outputs": [
    {
     "name": "stdout",
     "output_type": "stream",
     "text": [
      "\n",
      "Name: EZHIL NEVEDHA K\n"
     ]
    }
   ],
   "source": [
    "initial_weight=model.linear.weight.item()\n",
    "initial_bias=model.linear.bias.item()\n",
    "print(\"\\nName: EZHIL NEVEDHA K\")"
   ]
  },
  {
   "cell_type": "code",
   "execution_count": 11,
   "id": "9e3b82a9",
   "metadata": {},
   "outputs": [
    {
     "name": "stdout",
     "output_type": "stream",
     "text": [
      "\n",
      "Register Number: 212223230055\n"
     ]
    }
   ],
   "source": [
    "print(\"\\nRegister Number: 212223230055\")"
   ]
  },
  {
   "cell_type": "code",
   "execution_count": 12,
   "id": "4cb19e79",
   "metadata": {},
   "outputs": [
    {
     "name": "stdout",
     "output_type": "stream",
     "text": [
      "\n",
      "Initial Weight: 0.10597813, \n",
      "Initial Bias: 0.96379614\n"
     ]
    }
   ],
   "source": [
    "print(f\"\\nInitial Weight: {initial_weight:.8f}, \\nInitial Bias: {initial_bias:.8f}\")"
   ]
  },
  {
   "cell_type": "code",
   "execution_count": 13,
   "id": "77a522ad",
   "metadata": {},
   "outputs": [
    {
     "name": "stdout",
     "output_type": "stream",
     "text": [
      "epoch:  1 loss: 3057.21679688weight: 3.33490038bias: 1.06046367\n",
      "epoch:  2 loss: 1588.53112793weight: 1.01483274bias: 0.99226284\n",
      "epoch:  3 loss: 830.29998779weight: 2.68179965bias: 1.04252183\n",
      "epoch:  4 loss: 438.85241699weight: 1.48402119bias: 1.00766504\n",
      "epoch:  5 loss: 236.76152039weight: 2.34460592bias: 1.03396463\n",
      "epoch:  6 loss: 132.42912292weight: 1.72622538bias: 1.01632178\n",
      "epoch:  7 loss: 78.56572723weight: 2.17050409bias: 1.03025162\n",
      "epoch:  8 loss: 50.75775909weight: 1.85124576bias: 1.02149546\n",
      "epoch:  9 loss: 36.40123367weight: 2.08060074bias: 1.02903891\n",
      "epoch: 10 loss: 28.98922920weight: 1.91576838bias: 1.02487016\n",
      "epoch: 11 loss: 25.16238213weight: 2.03416562bias: 1.02911627\n",
      "epoch: 12 loss: 23.18647385weight: 1.94905841bias: 1.02731562\n",
      "epoch: 13 loss: 22.16612625weight: 2.01017213bias: 1.02985907\n",
      "epoch: 14 loss: 21.63911057weight: 1.96622372bias: 1.02928054\n",
      "epoch: 15 loss: 21.36677170weight: 1.99776423bias: 1.03094459\n",
      "epoch: 16 loss: 21.22591782weight: 1.97506487bias: 1.03099668\n",
      "epoch: 17 loss: 21.15294647weight: 1.99133754bias: 1.03220642\n",
      "epoch: 18 loss: 21.11500931weight: 1.97960854bias: 1.03258383\n",
      "epoch: 19 loss: 21.09517670weight: 1.98799884bias: 1.03355861\n",
      "epoch: 20 loss: 21.08468437weight: 1.98193336bias: 1.03410351\n",
      "epoch: 21 loss: 21.07901382weight: 1.98625445bias: 1.03495669\n",
      "epoch: 22 loss: 21.07583046weight: 1.98311269bias: 1.03558779\n",
      "epoch: 23 loss: 21.07393837weight: 1.98533309bias: 1.03637791\n",
      "epoch: 24 loss: 21.07270050weight: 1.98370099bias: 1.03705311\n",
      "epoch: 25 loss: 21.07181931weight: 1.98483658bias: 1.03781021\n",
      "epoch: 26 loss: 21.07110596weight: 1.98398376bias: 1.03850794\n",
      "epoch: 27 loss: 21.07048607weight: 1.98455977bias: 1.03924775\n",
      "epoch: 28 loss: 21.06991386weight: 1.98410904bias: 1.03995669\n",
      "epoch: 29 loss: 21.06936836weight: 1.98439610bias: 1.04068720\n",
      "epoch: 30 loss: 21.06883812weight: 1.98415291bias: 1.04140162\n",
      "epoch: 31 loss: 21.06830788weight: 1.98429084bias: 1.04212701\n",
      "epoch: 32 loss: 21.06778145weight: 1.98415494bias: 1.04284394\n",
      "epoch: 33 loss: 21.06726074weight: 1.98421574bias: 1.04356635\n",
      "epoch: 34 loss: 21.06674004weight: 1.98413551bias: 1.04428422\n",
      "epoch: 35 loss: 21.06622505weight: 1.98415649bias: 1.04500473\n",
      "epoch: 36 loss: 21.06570816weight: 1.98410451bias: 1.04572272\n",
      "epoch: 37 loss: 21.06518745weight: 1.98410523bias: 1.04644191\n",
      "epoch: 38 loss: 21.06466866weight: 1.98406804bias: 1.04715967\n",
      "epoch: 39 loss: 21.06415749weight: 1.98405814bias: 1.04787791\n",
      "epoch: 40 loss: 21.06363678weight: 1.98402870bias: 1.04859519\n",
      "epoch: 41 loss: 21.06312561weight: 1.98401320bias: 1.04931259\n",
      "epoch: 42 loss: 21.06260681weight: 1.98398757bias: 1.05002928\n",
      "epoch: 43 loss: 21.06209564weight: 1.98396957bias: 1.05074584\n",
      "epoch: 44 loss: 21.06157684weight: 1.98394585bias: 1.05146194\n",
      "epoch: 45 loss: 21.06106949weight: 1.98392630bias: 1.05217779\n",
      "epoch: 46 loss: 21.06055450weight: 1.98390377bias: 1.05289316\n",
      "epoch: 47 loss: 21.06004333weight: 1.98388338bias: 1.05360830\n",
      "epoch: 48 loss: 21.05953217weight: 1.98386145bias: 1.05432308\n",
      "epoch: 49 loss: 21.05901337weight: 1.98384094bias: 1.05503750\n",
      "epoch: 50 loss: 21.05850983weight: 1.98381913bias: 1.05575156\n",
      "epoch: 51 loss: 21.05800056weight: 1.98379850bias: 1.05646527\n",
      "epoch: 52 loss: 21.05748940weight: 1.98377669bias: 1.05717862\n",
      "epoch: 53 loss: 21.05697823weight: 1.98375595bias: 1.05789161\n",
      "epoch: 54 loss: 21.05646896weight: 1.98373449bias: 1.05860424\n",
      "epoch: 55 loss: 21.05595970weight: 1.98371363bias: 1.05931652\n",
      "epoch: 56 loss: 21.05545807weight: 1.98369217bias: 1.06002843\n",
      "epoch: 57 loss: 21.05495071weight: 1.98367131bias: 1.06074011\n",
      "epoch: 58 loss: 21.05444336weight: 1.98364997bias: 1.06145144\n",
      "epoch: 59 loss: 21.05393600weight: 1.98362887bias: 1.06216240\n",
      "epoch: 60 loss: 21.05343437weight: 1.98360777bias: 1.06287301\n",
      "epoch: 61 loss: 21.05292511weight: 1.98358667bias: 1.06358325\n",
      "epoch: 62 loss: 21.05242157weight: 1.98356557bias: 1.06429315\n",
      "epoch: 63 loss: 21.05191803weight: 1.98354459bias: 1.06500268\n",
      "epoch: 64 loss: 21.05141449weight: 1.98352337bias: 1.06571186\n",
      "epoch: 65 loss: 21.05091095weight: 1.98350239bias: 1.06642079\n",
      "epoch: 66 loss: 21.05040359weight: 1.98348129bias: 1.06712937\n",
      "epoch: 67 loss: 21.04990196weight: 1.98346019bias: 1.06783760\n",
      "epoch: 68 loss: 21.04940033weight: 1.98343933bias: 1.06854546\n",
      "epoch: 69 loss: 21.04889870weight: 1.98341823bias: 1.06925297\n",
      "epoch: 70 loss: 21.04839897weight: 1.98339725bias: 1.06996012\n",
      "epoch: 71 loss: 21.04789543weight: 1.98337615bias: 1.07066691\n",
      "epoch: 72 loss: 21.04739761weight: 1.98335540bias: 1.07137334\n",
      "epoch: 73 loss: 21.04689789weight: 1.98333418bias: 1.07207942\n",
      "epoch: 74 loss: 21.04639626weight: 1.98331320bias: 1.07278526\n",
      "epoch: 75 loss: 21.04590034weight: 1.98329246bias: 1.07349074\n",
      "epoch: 76 loss: 21.04540443weight: 1.98327124bias: 1.07419586\n",
      "epoch: 77 loss: 21.04490280weight: 1.98325062bias: 1.07490063\n",
      "epoch: 78 loss: 21.04440689weight: 1.98322940bias: 1.07560503\n",
      "epoch: 79 loss: 21.04391098weight: 1.98320866bias: 1.07630908\n",
      "epoch: 80 loss: 21.04341507weight: 1.98318768bias: 1.07701278\n",
      "epoch: 81 loss: 21.04292297weight: 1.98316681bias: 1.07771623\n",
      "epoch: 82 loss: 21.04242516weight: 1.98314595bias: 1.07841933\n",
      "epoch: 83 loss: 21.04193306weight: 1.98312485bias: 1.07912207\n",
      "epoch: 84 loss: 21.04143715weight: 1.98310423bias: 1.07982445\n",
      "epoch: 85 loss: 21.04093933weight: 1.98308313bias: 1.08052647\n",
      "epoch: 86 loss: 21.04045486weight: 1.98306239bias: 1.08122814\n",
      "epoch: 87 loss: 21.03996086weight: 1.98304164bias: 1.08192945\n",
      "epoch: 88 loss: 21.03946304weight: 1.98302066bias: 1.08263052\n",
      "epoch: 89 loss: 21.03897476weight: 1.98299992bias: 1.08333123\n",
      "epoch: 90 loss: 21.03848457weight: 1.98297930bias: 1.08403158\n",
      "epoch: 91 loss: 21.03799057weight: 1.98295832bias: 1.08473158\n",
      "epoch: 92 loss: 21.03750420weight: 1.98293757bias: 1.08543122\n",
      "epoch: 93 loss: 21.03701019weight: 1.98291671bias: 1.08613050\n",
      "epoch: 94 loss: 21.03651810weight: 1.98289609bias: 1.08682954\n",
      "epoch: 95 loss: 21.03603554weight: 1.98287511bias: 1.08752823\n",
      "epoch: 96 loss: 21.03554726weight: 1.98285460bias: 1.08822656\n",
      "epoch: 97 loss: 21.03505707weight: 1.98283374bias: 1.08892453\n",
      "epoch: 98 loss: 21.03456879weight: 1.98281300bias: 1.08962214\n",
      "epoch: 99 loss: 21.03408241weight: 1.98279238bias: 1.09031940\n",
      "epoch: 100 loss: 21.03359604weight: 1.98277164bias: 1.09101629\n"
     ]
    },
    {
     "data": {
      "image/png": "[encoded data removed]",
      "text/plain": [
       "<Figure size 640x480 with 1 Axes>"
      ]
     },
     "metadata": {},
     "output_type": "display_data"
    }
   ],
   "source": [
    "loss_function=nn.MSELoss()\n",
    "optimizer=torch.optim.SGD(model.parameters(),lr=0.001)\n",
    "epochs=100\n",
    "losses=[]\n",
    "for epoch in range(1,epochs+1):\n",
    "  optimizer.zero_grad()\n",
    "  y_pred=model(X)\n",
    "  loss=loss_function(y_pred,y)\n",
    "  losses.append(loss.item())\n",
    "  loss.backward()\n",
    "  optimizer.step()\n",
    "  print(f\"epoch: {epoch:2} loss: {loss.item():10.8f}\"\n",
    "         f\"weight: {model.linear.weight.item():10.8f}\"\n",
    "         f\"bias: {model.linear.bias.item():10.8f}\")\n",
    "\n",
    "\n",
    "plt.plot(range(epochs),losses,color=\"Blue\")\n",
    "plt.xlabel(\"Epoch\")\n",
    "plt.ylabel(\"Loss\")\n",
    "plt.title(\"Loss Curve\")\n",
    "plt.show()"
   ]
  },
  {
   "cell_type": "code",
   "execution_count": 14,
   "id": "0ffe9acd",
   "metadata": {},
   "outputs": [
    {
     "name": "stdout",
     "output_type": "stream",
     "text": [
      "\n",
      "Name: EZHIL NEVEDHA K\n"
     ]
    }
   ],
   "source": [
    "final_weight=model.linear.weight.item()\n",
    "final_bias=model.linear.bias.item()\n",
    "print(\"\\nName: EZHIL NEVEDHA K\")"
   ]
  },
  {
   "cell_type": "code",
   "execution_count": 15,
   "id": "831e6b17",
   "metadata": {},
   "outputs": [
    {
     "name": "stdout",
     "output_type": "stream",
     "text": [
      "\n",
      "Register Number: 212223230055\n"
     ]
    }
   ],
   "source": [
    "print(\"\\nRegister Number: 212223230055\")"
   ]
  },
  {
   "cell_type": "code",
   "execution_count": 16,
   "id": "0f64007a",
   "metadata": {},
   "outputs": [
    {
     "name": "stdout",
     "output_type": "stream",
     "text": [
      "\n",
      "Final Weight: 1.98277164, Final Bias: 1.09101629\n"
     ]
    }
   ],
   "source": [
    "print(f\"\\nFinal Weight: {final_weight:.8f}, Final Bias: {final_bias:.8f}\")"
   ]
  },
  {
   "cell_type": "code",
   "execution_count": 17,
   "id": "5f44754b",
   "metadata": {},
   "outputs": [
    {
     "name": "stdout",
     "output_type": "stream",
     "text": [
      "tensor([ 1., 50.])\n"
     ]
    }
   ],
   "source": [
    "x1=torch.tensor([X.min().item(), X.max().item()])\n",
    "y1=x1*final_weight+final_bias\n",
    "print(x1)"
   ]
  },
  {
   "cell_type": "code",
   "execution_count": 18,
   "id": "5f70370f",
   "metadata": {},
   "outputs": [
    {
     "name": "stdout",
     "output_type": "stream",
     "text": [
      "tensor([  3.0738, 100.2296])\n"
     ]
    }
   ],
   "source": [
    "print(y1)"
   ]
  },
  {
   "cell_type": "code",
   "execution_count": 19,
   "id": "de8c7838",
   "metadata": {},
   "outputs": [
    {
     "data": {
      "image/png": "[encoded data removed]",
      "text/plain": [
       "<Figure size 640x480 with 1 Axes>"
      ]
     },
     "metadata": {},
     "output_type": "display_data"
    }
   ],
   "source": [
    "plt.scatter(X.numpy(), y.numpy(), color='red', label='Original Data')\n",
    "plt.plot(x1.numpy(), y1.numpy(), color='cyan', label='Best-Fit Line')\n",
    "plt.xlabel('X')\n",
    "plt.ylabel('Y')\n",
    "plt.title('Trained Model: Best-Fit Line')\n",
    "plt.legend()\n",
    "plt.show()"
   ]
  },
  {
   "cell_type": "code",
   "execution_count": 20,
   "id": "09f6b83f",
   "metadata": {},
   "outputs": [
    {
     "name": "stdout",
     "output_type": "stream",
     "text": [
      "\n",
      "Name: EZHIL NEVEDHA K\n"
     ]
    }
   ],
   "source": [
    "x_new=torch.tensor([[120.0]])\n",
    "y_new_pred=model(x_new).item()\n",
    "print(\"\\nName: EZHIL NEVEDHA K\")"
   ]
  },
  {
   "cell_type": "code",
   "execution_count": 21,
   "id": "16849c8c",
   "metadata": {},
   "outputs": [
    {
     "name": "stdout",
     "output_type": "stream",
     "text": [
      "\n",
      "Register Number: 212223230055\n"
     ]
    }
   ],
   "source": [
    "print(\"\\nRegister Number: 212223230055\")"
   ]
  },
  {
   "cell_type": "code",
   "execution_count": 22,
   "id": "1fc4e85d",
   "metadata": {},
   "outputs": [
    {
     "name": "stdout",
     "output_type": "stream",
     "text": [
      "\n",
      "Predicted for x = 120: 239.02362061\n"
     ]
    }
   ],
   "source": [
    "print(f\"\\nPredicted for x = 120: {y_new_pred:.8f}\")"
   ]
  },
  {
   "cell_type": "code",
   "execution_count": null,
   "id": "1bb22c7f",
   "metadata": {},
   "outputs": [],
   "source": []
  }
 ],
 "metadata": {
  "kernelspec": {
   "display_name": "Python 3 (ipykernel)",
   "language": "python",
   "name": "python3"
  },
  "language_info": {
   "codemirror_mode": {
    "name": "ipython",
    "version": 3
   },
   "file_extension": ".py",
   "mimetype": "text/x-python",
   "name": "python",
   "nbconvert_exporter": "python",
   "pygments_lexer": "ipython3",
   "version": "3.11.13"
  }
 },
 "nbformat": 4,
 "nbformat_minor": 5
}
